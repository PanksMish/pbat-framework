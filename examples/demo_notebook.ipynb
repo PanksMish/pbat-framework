{
 "cells": [
  {
   "cell_type": "markdown",
   "metadata": {},
   "source": [
    "# PBAT Framework Demonstration\n",
    "\n",
    "This notebook demonstrates the key components and capabilities of the Profile-Based Adaptive Testing (PBAT) framework.\n",
    "\n",
    "## Overview\n",
    "PBAT is an AI-driven quiz generation platform that combines:\n",
    "- Retrieval-Augmented Generation (RAG) for factual accuracy\n",
    "- Item Response Theory (IRT) for psychometric calibration\n",
    "- Multi-Armed Restless Bandit (MARB) for adaptive personalization"
   ]
  },
  {
   "cell_type": "code",
   "execution_count": null,
   "metadata": {},
   "outputs": [],
   "source": [
    "# Import required libraries\n",
    "import sys\n",
    "sys.path.append('..')\n",
    "\n",
    "from pbat_main import *\n",
    "from visualization import PBATVisualizer\n",
    "from analysis import PBATAnalyzer\n",
    "import pandas as pd\n",
    "import numpy as np\n",
    "import matplotlib.pyplot as plt\n",
    "import seaborn as sns\n",
    "\n",
    "print(\"PBAT Framework loaded successfully!\")"
   ]
  },
  {
   "cell_type": "markdown",
   "metadata": {},
   "source": [
    "## 1. Document Processing Module Demo"
   ]
  },
  {
   "cell_type": "code",
   "execution_count": null,
   "metadata": {},
   "outputs": [],
   "source": [
    "# Initialize document processor\n",
    "doc_processor = DocumentProcessor()\n",
    "\n",
    "# Sample educational content\n",
    "sample_docs = [\n",
    "    \"Machine learning algorithms learn patterns from data to make predictions. Supervised learning uses labeled training data, while unsupervised learning finds hidden patterns in unlabeled data.\",\n",
    "    \"Neural networks consist of interconnected nodes that process information. Deep learning uses multiple layers to extract hierarchical features from complex data.\",\n",
    "    \"Cloud computing provides on-demand access to computing resources over the internet. Virtualization enables efficient resource sharing and scalability.\"\n",
    "]\n",
    "\n",
    "# Process documents\n",
    "chunks = doc_processor.parse_documents(sample_docs)\n",
    "embeddings = doc_processor.extract_embeddings(chunks)\n",
    "\n",
    "print(f\"Processed {len(chunks)} text chunks\")\n",
    "print(f\"Generated {embeddings.shape[0]} embeddings with {embeddings.shape[1]} features\")\n",
    "\n",
    "# Test retrieval\n",
    "query = \"neural networks\"\n",
    "relevant_chunks = doc_processor.retrieve_relevant_chunks(query, top_k=3)\n",
    "print(f\"\\nTop relevant chunks for '{query}':\")\n",
    "for i, chunk in enumerate(relevant_chunks):\n",
    "    print(f\"{i+1}. {chunk['text'][:100]}...\")"
   ]
  },
  {
   "cell_type": "markdown",
   "metadata": {},
   "source": [
    "## 2. Quiz Generation Module Demo"
   ]
  },
  {
   "cell_type": "code",
   "execution_count": null,
   "metadata": {},
   "outputs": [],
   "source": [
    "# Initialize quiz generator\n",
    "quiz_generator = QuizGenerator(doc_processor)\n",
    "\n",
    "# Generate questions for different topics and difficulties\n",
    "topics = [\"Machine Learning\", \"Neural Networks\", \"Cloud Computing\"]\n",
    "difficulties = [\"Easy\", \"Medium\", \"Hard\"]\n",
    "\n",
    "for topic in topics:\n",
    "    print(f\"\\n=== {topic} Questions ===\")\n",
    "    for difficulty in difficulties:\n",
    "        questions = quiz_generator.generate_questions(topic, difficulty, count=2)\n",
    "        validated_questions = quiz_generator.validate_questions(questions)\n",
    "        \n",
    "        print(f\"\\n{difficulty} Level:\")\n",
    "        for i, q in enumerate(validated_questions):\n",
    "            print(f\"{i+1}. {q.text}\")\n",
    "            print(f\"   IRT Params: a={q.discrimination:.2f}, b={q.difficulty:.2f}, c={q.guessing:.2f}\")"
   ]
  },
  {
   "cell_type": "markdown",
   "metadata": {},
   "source": [
    "## 3. PBAT Adaptive Module Demo"
   ]
  },
  {
   "cell_type": "code",
   "execution_count": null,
   "metadata": {},
   "outputs": [],
   "source": [
    "# Initialize PBAT adapter\n",
    "pbat_adapter = PBATAdapter(quiz_generator)\n",
    "\n",
    "# Create a sample learner profile\n",
    "learner_id = \"demo_student\"\n",
    "profile = pbat_adapter.initialize_learner_profile(learner_id, initial_ability=0.0)\n",
    "\n",
    "print(f\"Initialized learner profile: {profile}\")\n",
    "\n",
    "# Generate a question bank\n",
    "all_questions = []\n",
    "for topic in [\"Machine Learning\", \"Neural Networks\"]:\n",
    "    for difficulty in [\"Easy\", \"Medium\", \"Hard\"]:\n",
    "        questions = quiz_generator.generate_questions(topic, difficulty, count=5)\n",
    "        all_questions.extend(quiz_generator.validate_questions(questions))\n",
    "\n",
    "print(f\"\\nGenerated question bank with {len(all_questions)} questions\")\n",
    "\n",
    "# Simulate adaptive session\n",
    "session_questions = []\n",
    "simulated_responses = []\n",
    "\n",
    "print(\"\\n=== Adaptive Session Simulation ===\")\n",
    "\n",
    "for step in range(8):  # Simulate 8 questions\n",
    "    # Select next question\n",
    "    available = [q for q in all_questions if q not in session_questions]\n",
    "    next_question = pbat_adapter.select_next_question(learner_id, available)\n",
    "    \n",
    "    if next_question is None:\n",
    "        break\n",
    "    \n",
    "    # Simulate learner response (based on IRT model)\n",
    "    current_ability = pbat_adapter.learner_profiles[learner_id]['ability']\n",
    "    prob_correct = pbat_adapter.irt_probability(current_ability, next_question)\n",
    "    response = np.random.random() < prob_correct\n",
    "    \n",
    "    # Update learner model\n",
    "    pbat_adapter.update_ability_map(learner_id, response, next_question)\n",
    "    \n",
    "    session_questions.append(next_question)\n",
    "    simulated_responses.append(response)\n",
    "    \n",
    "    updated_ability = pbat_adapter.learner_profiles[learner_id]['ability']\n",
    "    \n",
    "    print(f\"Step {step+1}:\")\n",
    "    print(f\"  Question: {next_question.text[:60]}...\")\n",
    "    print(f\"  Difficulty: {next_question.difficulty:.2f}\")\n",
    "    print(f\"  Response: {'Correct' if response else 'Incorrect'}\")\n",
    "    print(f\"  Updated Ability: {current_ability:.3f} → {updated_ability:.3f}\")\n",
    "    print()\n",
    "\n",
    "# Check stopping rule\n",
    "should_stop = pbat_adapter.check_stopping_rule(learner_id)\n",
    "print(f\"Should stop assessment: {should_stop}\")\n",
    "print(f\"Final ability estimate: {pbat_adapter.learner_profiles[learner_id]['ability']:.3f}\")"
   ]
  },
  {
   "cell_type": "markdown",
   "metadata": {},
   "source": [
    "## 4. Full Experiment Simulation"
   ]
  },
  {
   "cell_type": "code",
   "execution_count": null,
   "metadata": {},
   "outputs": [],
   "source": [
    "# Run a small-scale experiment\n",
    "simulator = ExperimentSimulator()\n",
    "results_df = simulator.run_experiment(n_learners=20, n_attempts=3)\n",
    "\n",
    "print(f\"Generated {len(results_df)} experimental records\")\n",
    "print(\"\\nFirst 10 records:\")\n",
    "print(results_df.head(10))"
   ]
  },
  {
   "cell_type": "markdown",
   "metadata": {},
   "source": [
    "## 5. Performance Analysis"
   ]
  },
  {
   "cell_type": "code",
   "execution_count": null,
   "metadata": {},
   "outputs": [],
   "source": [
    "# Statistical analysis\n",
    "analyzer = PBATAnalyzer(results_df)\n",
    "summary = analyzer.quick_summary()\n",
    "\n",
    "print(\"=== PBAT Performance Summary ===\")\n",
    "for metric, value in summary['pbat_performance'].items():\n",
    "    print(f\"{metric}: {value:.2f}\")\n",
    "\n",
    "print(\"\\n=== Model Comparison ===\")\n",
    "comparison = results_df.groupby('Model').agg({\n",
    "    'AvgScore': ['mean', 'std'],\n",
    "    'CognitiveLoad': ['mean', 'std'],\n",
    "    'HallucinationRate': ['mean', 'std'],\n",
    "    'Retention48h': ['mean', 'std'],\n",
    "    'FeedbackScore': ['mean', 'std']\n",
    "}).round(2)\n",
    "\n",
    "print(comparison)"
   ]
  },
  {
   "cell_type": "markdown",
   "metadata": {},
   "source": [
    "## 6. Visualization"
   ]
  },
  {
   "cell_type": "code",
   "execution_count": null,
   "metadata": {},
   "outputs": [],
   "source": [
    "# Create visualizations\n",
    "viz = PBATVisualizer(results_df)\n",
    "\n",
    "# Model comparison plot\n",
    "plt.figure(figsize=(15, 10))\n",
    "\n",
    "metrics = ['AvgScore', 'CognitiveLoad', 'HallucinationRate', 'Retention48h', 'FeedbackScore']\n",
    "\n",
    "for i, metric in enumerate(metrics):\n",
    "    plt.subplot(2, 3, i+1)\n",
    "    sns.boxplot(data=results_df, x='Model', y=metric)\n",
    "    plt.title(f'{metric} by Model')\n",
    "    plt.xticks(rotation=45)\n",
    "\n",
    "plt.tight_layout()\n",
    "plt.show()\n",
    "\n",
    "# Learning trajectory\n",
    "plt.figure(figsize=(12, 8))\n",
    "\n",
    "trajectory_metrics = ['AvgScore', 'Retention48h']\n",
    "for i, metric in enumerate(trajectory_metrics):\n",
    "    plt.subplot(1, 2, i+1)\n",
    "    \n",
    "    trajectory_data = results_df.groupby(['Model', 'AttemptNo'])[metric].mean().reset_index()\n",
    "    \n",
    "    for model in results_df['Model'].unique():\n",
    "        model_data = trajectory_data[trajectory_data['Model'] == model]\n",
    "        plt.plot(model_data['AttemptNo'], model_data[metric], \n",
    "                marker='o', linewidth=2, label=model)\n",
    "    \n",
    "    plt.title(f'{metric} Learning Trajectory')\n",
    "    plt.xlabel('Attempt Number')\n",
    "    plt.ylabel(metric)\n",
    "    plt.legend()\n",
    "    plt.grid(True, alpha=0.3)\n",
    "\n",
    "plt.tight_layout()\n",
    "plt.show()"
   ]
  },
  {
   "cell_type": "markdown",
   "metadata": {},
   "source": [
    "## 7. Key Findings\n",
    "\n",
    "Based on the simulation, we can observe:\n",
    "\n",
    "1. **Adaptive Question Selection**: PBAT dynamically adjusts question difficulty based on learner ability\n",
    "2. **Reduced Hallucination**: RAG-based validation ensures factual accuracy\n",
    "3. **Improved Learning Outcomes**: Higher retention and satisfaction scores\n",
    "4. **Efficient Assessment**: Adaptive stopping rules optimize quiz length\n",
    "\n",
    "## Next Steps\n",
    "\n",
    "- Run larger-scale experiments with more learners\n",
    "- Test with real educational content and student data\n",
    "- Fine-tune hyperparameters for optimal performance\n",
    "- Implement additional evaluation metrics"
   ]
  },
  {
   "cell_type": "code",
   "execution_count": null,
   "metadata": {},
   "outputs": [],
   "source": [
    "# Save results for further analysis\n",
    "results_df.to_csv('demo_experiment_results.csv', index=False)\n",
    "print(\"Demo results saved to 'demo_experiment_results.csv'\")\n",
    "print(\"\\nDemo completed successfully!\")"
   ]
  }
 ],
 "metadata": {
  "kernelspec": {
   "display_name": "Python 3",
   "language": "python",
   "name": "python3"
  },
  "language_info": {
   "codemirror_mode": {
    "name": "ipython",
    "version": 3
   },
   "file_extension": ".py",
   "mimetype": "text/x-python",
   "name": "python",
   "nbconvert_exporter": "python",
   "pygments_lexer": "ipython3",
   "version": "3.8.5"
  }
 },
 "nbformat": 4,
 "nbformat_minor": 4
}
